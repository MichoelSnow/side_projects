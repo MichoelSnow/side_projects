{
 "cells": [
  {
   "cell_type": "markdown",
   "metadata": {},
   "source": [
    "## Data Cleaning / Feature Engineering"
   ]
  },
  {
   "cell_type": "code",
   "execution_count": 1,
   "metadata": {},
   "outputs": [],
   "source": [
    "import arrow # learn more: https://python.org/pypi/arrow\n",
    "from WunderWeather import weather # learn more: https://python.org/pypi/WunderWeather\n",
    "# https://www.wunderground.com/weather/api/d/docs?d=data/history\n",
    "# https://www.wunderground.com/weather/api/d/docs?d=resources/phrase-glossary\n",
    "\n",
    "api_key = '5c9e4a395be8578a'\n",
    "extractor = weather.Extract(api_key)\n",
    "zip = '10467'"
   ]
  },
  {
   "cell_type": "code",
   "execution_count": 13,
   "metadata": {},
   "outputs": [],
   "source": [
    "date = arrow.get(\"20170601\",\"YYYYMMDD\")\n",
    "date_weather = extractor.date(zip,date.format('YYYYMMDD'))"
   ]
  },
  {
   "cell_type": "code",
   "execution_count": 10,
   "metadata": {},
   "outputs": [
    {
     "name": "stdout",
     "output_type": "stream",
     "text": [
      "Date: 12:51 AM EDT on June 01, 2017\n",
      "Temp: 64.0\n",
      "Date: 1:51 AM EDT on June 01, 2017\n",
      "Temp: 62.1\n",
      "Date: 2:51 AM EDT on June 01, 2017\n",
      "Temp: 61.0\n",
      "Date: 3:29 AM EDT on June 01, 2017\n",
      "Temp: 62.1\n",
      "Date: 3:47 AM EDT on June 01, 2017\n",
      "Temp: 60.8\n",
      "Date: 3:51 AM EDT on June 01, 2017\n",
      "Temp: 61.0\n",
      "Date: 4:51 AM EDT on June 01, 2017\n",
      "Temp: 61.0\n",
      "Date: 5:51 AM EDT on June 01, 2017\n",
      "Temp: 62.1\n",
      "Date: 6:51 AM EDT on June 01, 2017\n",
      "Temp: 63.0\n",
      "Date: 7:51 AM EDT on June 01, 2017\n",
      "Temp: 64.0\n",
      "Date: 8:51 AM EDT on June 01, 2017\n",
      "Temp: 66.9\n",
      "Date: 9:51 AM EDT on June 01, 2017\n",
      "Temp: 70.0\n",
      "Date: 10:51 AM EDT on June 01, 2017\n",
      "Temp: 73.0\n",
      "Date: 11:51 AM EDT on June 01, 2017\n",
      "Temp: 75.9\n",
      "Date: 12:51 PM EDT on June 01, 2017\n",
      "Temp: 78.1\n",
      "Date: 1:51 PM EDT on June 01, 2017\n",
      "Temp: 78.1\n",
      "Date: 2:51 PM EDT on June 01, 2017\n",
      "Temp: 81.0\n",
      "Date: 3:51 PM EDT on June 01, 2017\n",
      "Temp: 81.0\n",
      "Date: 4:51 PM EDT on June 01, 2017\n",
      "Temp: 79.0\n",
      "Date: 5:51 PM EDT on June 01, 2017\n",
      "Temp: 79.0\n",
      "Date: 6:51 PM EDT on June 01, 2017\n",
      "Temp: 77.0\n",
      "Date: 7:51 PM EDT on June 01, 2017\n",
      "Temp: 75.9\n",
      "Date: 8:51 PM EDT on June 01, 2017\n",
      "Temp: 75.9\n",
      "Date: 9:51 PM EDT on June 01, 2017\n",
      "Temp: 75.0\n",
      "Date: 10:51 PM EDT on June 01, 2017\n",
      "Temp: 73.9\n",
      "Date: 11:51 PM EDT on June 01, 2017\n",
      "Temp: 72.0\n"
     ]
    }
   ],
   "source": [
    "# begin_date = arrow.get(\"201706\",\"YYYYMM\")\n",
    "# end_date = arrow.get(\"20170602\",\"YYYYMMDD\").shift(days=-1)\n",
    "# for date in arrow.Arrow.range('day',begin_date,end_date):\n",
    "#     print(date)\n",
    "#     extractor = weather.Extract(api_key)\n",
    "#     date_weather = extractor.date(zip,date.format('YYYYMMDD'))\n",
    "\n",
    "#   # use shortcut to get observations and data\n",
    "#   # http://wunderweather.readthedocs.io/en/latest/WunderWeather.html#WunderWeather.date.Observation\n",
    "for observation in date_weather.observations:\n",
    "    print(\"Date:\",observation.date_pretty)\n",
    "    print(\"Temp:\",observation.temp_f)"
   ]
  }
 ],
 "metadata": {
  "kernelspec": {
   "display_name": "Python 3",
   "language": "python",
   "name": "python3"
  },
  "language_info": {
   "codemirror_mode": {
    "name": "ipython",
    "version": 3
   },
   "file_extension": ".py",
   "mimetype": "text/x-python",
   "name": "python",
   "nbconvert_exporter": "python",
   "pygments_lexer": "ipython3",
   "version": "3.6.4"
  }
 },
 "nbformat": 4,
 "nbformat_minor": 2
}
